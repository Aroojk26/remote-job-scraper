{
 "cells": [
  {
   "cell_type": "code",
   "execution_count": 12,
   "metadata": {},
   "outputs": [
    {
     "name": "stdout",
     "output_type": "stream",
     "text": [
      "🌐 Loading page for 'software engineer'... waiting 30 seconds for content to load\n",
      "🔍 Found 20 job cards\n",
      "✅ 20 jobs saved to CSV and Excel.\n"
     ]
    }
   ],
   "source": [
    "import requests\n",
    "from bs4 import BeautifulSoup\n",
    "from datetime import datetime\n",
    "import pandas as pd\n",
    "import re\n",
    "import time\n",
    "\n",
    "def clean_text(text):\n",
    "    return re.sub(r'[^\\x00-\\x7F]+', '', text).strip()\n",
    "\n",
    "def scrape_remoteok(keyword=\"software engineer\", wait_time=30):\n",
    "    url = f\"https://remoteok.com/remote-{keyword.replace(' ', '-')}-jobs\"\n",
    "    headers = {\n",
    "        \"User-Agent\": \"Mozilla/5.0\"\n",
    "    }\n",
    "\n",
    "    print(f\"🌐 Loading page for '{keyword}'... waiting {wait_time} seconds for content to load\")\n",
    "    response = requests.get(url, headers=headers)\n",
    "    time.sleep(wait_time)\n",
    "\n",
    "    soup = BeautifulSoup(response.text, \"html.parser\")\n",
    "    jobs = []\n",
    "    listings = soup.find_all(\"tr\", class_=\"job\")\n",
    "\n",
    "    print(f\"🔍 Found {len(listings)} job cards\")\n",
    "\n",
    "    for job in listings:\n",
    "        try:\n",
    "            title = job.find(\"h2\", itemprop=\"title\").get_text(strip=True)\n",
    "        except:\n",
    "            title = ''\n",
    "        try:\n",
    "            company = job.find(\"h3\", itemprop=\"name\").get_text(strip=True)\n",
    "        except:\n",
    "            company = ''\n",
    "        try:\n",
    "            location_div = job.find(\"div\", class_=\"location\")\n",
    "            raw_location = location_div.get_text(\" \", strip=True) if location_div else 'Remote'\n",
    "            location = clean_text(raw_location)\n",
    "        except:\n",
    "            location = 'Remote'\n",
    "        try:\n",
    "            date_posted = job.find(\"time\")[\"datetime\"]\n",
    "        except:\n",
    "            date_posted = ''\n",
    "        try:\n",
    "            job_link = \"https://remoteok.com\" + job[\"data-href\"]\n",
    "        except:\n",
    "            job_link = ''\n",
    "\n",
    "        timestamp = datetime.now().strftime(\"%Y-%m-%d %H:%M:%S\")\n",
    "\n",
    "        job_data = {\n",
    "            \"Title\": title,\n",
    "            \"Company\": company,\n",
    "            \"Location\": location,\n",
    "            \"Date Posted\": date_posted,\n",
    "            \"Job Link\": job_link,\n",
    "            \"Timestamp\": timestamp\n",
    "        }\n",
    "        jobs.append(job_data)\n",
    "\n",
    "    if jobs:\n",
    "        df = pd.DataFrame(jobs)\n",
    "        filename_base = keyword.replace(\" \", \"_\")\n",
    "        df.to_csv(f\"{filename_base}_remote_jobs.csv\", index=False, encoding='utf-8-sig')\n",
    "        df.to_excel(f\"{filename_base}_remote_jobs.xlsx\", index=False)\n",
    "        print(f\"✅ {len(jobs)} jobs saved to CSV and Excel.\")\n",
    "    else:\n",
    "        print(\"❌ No jobs extracted.\")\n",
    "\n",
    "# Run with 30 seconds wait\n",
    "scrape_remoteok(\"software engineer\", wait_time=30)\n"
   ]
  },
  {
   "cell_type": "code",
   "execution_count": null,
   "metadata": {},
   "outputs": [],
   "source": []
  }
 ],
 "metadata": {
  "kernelspec": {
   "display_name": "Python 3",
   "language": "python",
   "name": "python3"
  },
  "language_info": {
   "codemirror_mode": {
    "name": "ipython",
    "version": 3
   },
   "file_extension": ".py",
   "mimetype": "text/x-python",
   "name": "python",
   "nbconvert_exporter": "python",
   "pygments_lexer": "ipython3",
   "version": "3.10.6"
  }
 },
 "nbformat": 4,
 "nbformat_minor": 2
}
